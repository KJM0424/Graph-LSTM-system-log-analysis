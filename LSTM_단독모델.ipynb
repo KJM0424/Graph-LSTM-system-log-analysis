{
  "nbformat": 4,
  "nbformat_minor": 0,
  "metadata": {
    "colab": {
      "provenance": [],
      "gpuType": "T4"
    },
    "kernelspec": {
      "name": "python3",
      "display_name": "Python 3"
    },
    "language_info": {
      "name": "python"
    },
    "accelerator": "GPU"
  },
  "cells": [
    {
      "cell_type": "code",
      "execution_count": 5,
      "metadata": {
        "colab": {
          "base_uri": "https://localhost:8080/"
        },
        "id": "70Ts-xoQ4dtg",
        "outputId": "d5569553-4b3b-4e26-b592-5f7deb69e39b"
      },
      "outputs": [
        {
          "output_type": "stream",
          "name": "stdout",
          "text": [
            "Requirement already satisfied: torch in /usr/local/lib/python3.10/dist-packages (2.5.0+cu121)\n",
            "Requirement already satisfied: torchvision in /usr/local/lib/python3.10/dist-packages (0.20.0+cu121)\n",
            "Requirement already satisfied: torchaudio in /usr/local/lib/python3.10/dist-packages (2.5.0+cu121)\n",
            "Requirement already satisfied: filelock in /usr/local/lib/python3.10/dist-packages (from torch) (3.16.1)\n",
            "Requirement already satisfied: typing-extensions>=4.8.0 in /usr/local/lib/python3.10/dist-packages (from torch) (4.12.2)\n",
            "Requirement already satisfied: networkx in /usr/local/lib/python3.10/dist-packages (from torch) (3.4.2)\n",
            "Requirement already satisfied: jinja2 in /usr/local/lib/python3.10/dist-packages (from torch) (3.1.4)\n",
            "Requirement already satisfied: fsspec in /usr/local/lib/python3.10/dist-packages (from torch) (2024.10.0)\n",
            "Requirement already satisfied: sympy==1.13.1 in /usr/local/lib/python3.10/dist-packages (from torch) (1.13.1)\n",
            "Requirement already satisfied: mpmath<1.4,>=1.1.0 in /usr/local/lib/python3.10/dist-packages (from sympy==1.13.1->torch) (1.3.0)\n",
            "Requirement already satisfied: numpy in /usr/local/lib/python3.10/dist-packages (from torchvision) (1.26.4)\n",
            "Requirement already satisfied: pillow!=8.3.*,>=5.3.0 in /usr/local/lib/python3.10/dist-packages (from torchvision) (10.4.0)\n",
            "Requirement already satisfied: MarkupSafe>=2.0 in /usr/local/lib/python3.10/dist-packages (from jinja2->torch) (3.0.2)\n"
          ]
        }
      ],
      "source": [
        "# 필요한 라이브러리 설치\n",
        "!pip install torch torchvision torchaudio\n"
      ]
    },
    {
      "cell_type": "code",
      "source": [
        "# 라이브러리 임포트\n",
        "import pandas as pd\n",
        "import numpy as np\n",
        "import torch\n",
        "from torch import nn, optim\n",
        "from torch.utils.data import TensorDataset, DataLoader, random_split\n",
        "from sklearn.metrics import classification_report, confusion_matrix\n",
        "import seaborn as sns\n",
        "import matplotlib.pyplot as plt\n",
        "\n",
        "# Google Drive 마운트 (데이터 접근을 위해)\n",
        "from google.colab import drive\n",
        "drive.mount('/content/drive')\n"
      ],
      "metadata": {
        "colab": {
          "base_uri": "https://localhost:8080/"
        },
        "id": "BKYfm_RA4ipX",
        "outputId": "335f0dd1-0f5e-4b0a-f952-51cbb09a8788"
      },
      "execution_count": 6,
      "outputs": [
        {
          "output_type": "stream",
          "name": "stdout",
          "text": [
            "Drive already mounted at /content/drive; to attempt to forcibly remount, call drive.mount(\"/content/drive\", force_remount=True).\n"
          ]
        }
      ]
    },
    {
      "cell_type": "code",
      "source": [
        "import re"
      ],
      "metadata": {
        "id": "8Gk7lt2h5Xb5"
      },
      "execution_count": 7,
      "outputs": []
    },
    {
      "cell_type": "code",
      "source": [
        "from google.colab import drive\n",
        "drive.mount('/content/drive')\n",
        "\n",
        "# 데이터 경로 설정\n",
        "base_path = '/content/drive/MyDrive/Graph LSTM/HDFS_v1/preprocessed/'\n",
        "\n",
        "anomaly_label_path = base_path + 'anomaly_label.csv'\n",
        "event_occurrence_matrix_path = base_path + 'Event_occurrence_matrix.csv'\n",
        "log_templates_path = base_path + 'HDFS.log_templates.csv'\n",
        "event_traces_path = base_path + 'Event_traces.csv'\n",
        "\n",
        "# 데이터 로드\n",
        "anomaly_label = pd.read_csv(anomaly_label_path)\n",
        "event_occurrence_matrix = pd.read_csv(event_occurrence_matrix_path)\n",
        "log_templates = pd.read_csv(log_templates_path)\n",
        "event_traces = pd.read_csv(event_traces_path)\n",
        "\n",
        "# 라벨 인코딩\n",
        "label_dict = {'Normal': 0, 'Anomaly': 1}\n",
        "anomaly_label['Label'] = anomaly_label['Label'].map(label_dict)\n",
        "\n",
        "# 이벤트 ID 매핑 생성\n",
        "event_id_to_template = dict(zip(log_templates['EventId'], log_templates['EventTemplate']))\n",
        "event_ids = log_templates['EventId'].unique()\n",
        "event_id_to_index = {event_id: idx for idx, event_id in enumerate(event_ids)}  # 이벤트 ID를 인덱스로 매핑\n",
        "\n",
        "# 'BlockId'를 기준으로 데이터 병합\n",
        "event_traces['BlockId'] = event_traces['BlockId'].astype(str)\n",
        "anomaly_label['BlockId'] = anomaly_label['BlockId'].astype(str)\n",
        "merged_data = pd.merge(event_traces, anomaly_label.rename(columns={'Label': 'AnomalyLabel'}), on='BlockId', how='inner')\n",
        "\n",
        "# 'Features'를 이벤트 리스트로 변환\n",
        "def parse_features(s):\n",
        "    return re.findall(r'E\\d+', s) if isinstance(s, str) else []\n",
        "\n",
        "merged_data['Features'] = merged_data['Features'].apply(parse_features)\n"
      ],
      "metadata": {
        "id": "Fps_i8Tn5jH0",
        "colab": {
          "base_uri": "https://localhost:8080/"
        },
        "outputId": "2eee3b02-ddf3-49a0-d3b0-ec8b1f9fa419"
      },
      "execution_count": 8,
      "outputs": [
        {
          "output_type": "stream",
          "name": "stdout",
          "text": [
            "Drive already mounted at /content/drive; to attempt to forcibly remount, call drive.mount(\"/content/drive\", force_remount=True).\n"
          ]
        }
      ]
    },
    {
      "cell_type": "code",
      "source": [
        "# 입력 시퀀스 및 라벨 생성\n",
        "inputs = []\n",
        "labels = []\n",
        "for _, row in merged_data.iterrows():\n",
        "    # 이벤트 ID를 인덱스로 변환하여 입력 시퀀스로 사용\n",
        "    event_indices = [event_id_to_index.get(event, 0) for event in row['Features']]\n",
        "    if event_indices:  # 빈 시퀀스를 피하기 위해 확인\n",
        "        inputs.append(event_indices)\n",
        "        labels.append(row['AnomalyLabel'])"
      ],
      "metadata": {
        "id": "3fjPIvLS4mXn"
      },
      "execution_count": 9,
      "outputs": []
    },
    {
      "cell_type": "code",
      "source": [
        "# PyTorch 텐서로 변환 (패딩을 사용해 시퀀스 길이 맞추기)\n",
        "input_size = len(event_ids)  # 전체 이벤트 수를 특징 크기로 사용\n"
      ],
      "metadata": {
        "id": "pCdxhZal5nu3"
      },
      "execution_count": 10,
      "outputs": []
    },
    {
      "cell_type": "code",
      "source": [
        "# 입력 데이터를 패딩하여 고정된 길이의 시퀀스로 변환\n",
        "inputs_tensor = torch.tensor([\n",
        "    np.pad(seq, (0, max(0, input_size - len(seq))), 'constant')[:input_size] for seq in inputs\n",
        "], dtype=torch.float32)\n",
        "labels_tensor = torch.tensor(labels, dtype=torch.long)\n"
      ],
      "metadata": {
        "colab": {
          "base_uri": "https://localhost:8080/"
        },
        "id": "_-qgFSQ76zc8",
        "outputId": "bc5f170d-2384-4c36-df68-8490742e2ea0"
      },
      "execution_count": 11,
      "outputs": [
        {
          "output_type": "stream",
          "name": "stderr",
          "text": [
            "<ipython-input-11-5481cef63e12>:2: UserWarning: Creating a tensor from a list of numpy.ndarrays is extremely slow. Please consider converting the list to a single numpy.ndarray with numpy.array() before converting to a tensor. (Triggered internally at ../torch/csrc/utils/tensor_new.cpp:278.)\n",
            "  inputs_tensor = torch.tensor([\n"
          ]
        }
      ]
    },
    {
      "cell_type": "code",
      "source": [
        "# TensorDataset 생성 후 학습 및 테스트 데이터셋 분할\n",
        "dataset = TensorDataset(inputs_tensor, labels_tensor)\n",
        "train_size = int(0.8 * len(dataset))\n",
        "test_size = len(dataset) - train_size\n",
        "train_dataset, test_dataset = random_split(dataset, [train_size, test_size])\n"
      ],
      "metadata": {
        "id": "ppWXfbMX7-fz"
      },
      "execution_count": 12,
      "outputs": []
    },
    {
      "cell_type": "code",
      "source": [
        "# DataLoader 설정\n",
        "batch_size = 32\n",
        "train_loader = DataLoader(train_dataset, batch_size=batch_size, shuffle=True)\n",
        "test_loader = DataLoader(test_dataset, batch_size=batch_size, shuffle=False)"
      ],
      "metadata": {
        "id": "NaNMDNCY5qLO"
      },
      "execution_count": 13,
      "outputs": []
    },
    {
      "cell_type": "code",
      "source": [
        "# Dropout이 적용된 LSTM 모델 정의\n",
        "class LSTMModel(nn.Module):\n",
        "    def __init__(self, input_size, hidden_size, num_layers, num_classes, dropout=0.6):\n",
        "        super(LSTMModel, self).__init__()\n",
        "        self.hidden_size = hidden_size\n",
        "        self.num_layers = num_layers\n",
        "        # LSTM 레이어에 Dropout 적용 (num_layers > 1일 때만 적용됨)\n",
        "        self.lstm = nn.LSTM(input_size, hidden_size, num_layers, batch_first=True, dropout=dropout)\n",
        "        self.fc = nn.Linear(hidden_size, num_classes)\n",
        "        # Fully Connected 레이어 전에 Dropout 추가\n",
        "        self.dropout = nn.Dropout(dropout)\n",
        "\n",
        "    def forward(self, x):\n",
        "        # 초기 hidden 및 cell 상태 설정\n",
        "        h0 = torch.zeros(self.num_layers, x.size(0), self.hidden_size).to(x.device)\n",
        "        c0 = torch.zeros(self.num_layers, x.size(0), self.hidden_size).to(x.device)\n",
        "\n",
        "        # LSTM 전방향 패스\n",
        "        out, _ = self.lstm(x, (h0, c0))\n",
        "\n",
        "        # Dropout 적용\n",
        "        out = self.dropout(out)\n",
        "\n",
        "        # 마지막 타임스텝의 출력값을 사용하여 분류\n",
        "        out = self.fc(out[:, -1, :])\n",
        "        return out\n"
      ],
      "metadata": {
        "id": "jmDn6UA44pXD"
      },
      "execution_count": 27,
      "outputs": []
    },
    {
      "cell_type": "code",
      "source": [
        "# 모델, 손실 함수, 최적화 함수 초기화\n",
        "device = torch.device('cuda' if torch.cuda.is_available() else 'cpu')\n",
        "lstm_model = LSTMModel(input_size=input_size, hidden_size=128, num_layers=1, num_classes=2, dropout=0.6).to(device)\n",
        "criterion = nn.CrossEntropyLoss()\n",
        "optimizer = optim.Adam(lstm_model.parameters(), lr=0.00001)\n",
        "\n",
        "# 학습 루프\n",
        "num_epochs = 10\n",
        "for epoch in range(num_epochs):\n",
        "    lstm_model.train()\n",
        "    total_loss = 0\n",
        "    for inputs, labels in train_loader:\n",
        "        inputs, labels = inputs.to(device), labels.to(device)\n",
        "        optimizer.zero_grad()\n",
        "        outputs = lstm_model(inputs.unsqueeze(1))\n",
        "        loss = criterion(outputs, labels)\n",
        "        loss.backward()\n",
        "        optimizer.step()\n",
        "        total_loss += loss.item()\n",
        "    print(f'Epoch [{epoch+1}/{num_epochs}], Loss: {total_loss / len(train_loader):.4f}')\n"
      ],
      "metadata": {
        "colab": {
          "base_uri": "https://localhost:8080/"
        },
        "id": "QFnQVteJ4qRo",
        "outputId": "12768810-f001-4e8b-eab7-945b003bf4e1"
      },
      "execution_count": 51,
      "outputs": [
        {
          "output_type": "stream",
          "name": "stderr",
          "text": [
            "/usr/local/lib/python3.10/dist-packages/torch/nn/modules/rnn.py:123: UserWarning: dropout option adds dropout after all but last recurrent layer, so non-zero dropout expects num_layers greater than 1, but got dropout=0.6 and num_layers=1\n",
            "  warnings.warn(\n"
          ]
        },
        {
          "output_type": "stream",
          "name": "stdout",
          "text": [
            "Epoch [1/10], Loss: 0.1293\n",
            "Epoch [2/10], Loss: 0.0652\n",
            "Epoch [3/10], Loss: 0.0485\n",
            "Epoch [4/10], Loss: 0.0379\n",
            "Epoch [5/10], Loss: 0.0312\n",
            "Epoch [6/10], Loss: 0.0269\n",
            "Epoch [7/10], Loss: 0.0242\n",
            "Epoch [8/10], Loss: 0.0219\n",
            "Epoch [9/10], Loss: 0.0203\n",
            "Epoch [10/10], Loss: 0.0188\n"
          ]
        }
      ]
    },
    {
      "cell_type": "code",
      "source": [
        "# 모델 평가\n",
        "lstm_model.eval()\n",
        "correct = 0\n",
        "total = 0\n",
        "with torch.no_grad():\n",
        "    for batch_inputs, batch_labels in test_loader:\n",
        "        batch_inputs = batch_inputs.to(device)\n",
        "        batch_labels = batch_labels.to(device)\n",
        "\n",
        "        outputs = lstm_model(batch_inputs.unsqueeze(1))\n",
        "        _, predicted = torch.max(outputs.data, 1)\n",
        "        correct += (predicted == batch_labels).sum().item()\n",
        "        total += batch_labels.size(0)\n",
        "accuracy = correct / total\n",
        "print(f'LSTM Test Accuracy: {accuracy:.4f}')"
      ],
      "metadata": {
        "colab": {
          "base_uri": "https://localhost:8080/"
        },
        "id": "SMWQTAjjnj06",
        "outputId": "23be691d-9261-496a-9828-c15efae3159f"
      },
      "execution_count": 52,
      "outputs": [
        {
          "output_type": "stream",
          "name": "stdout",
          "text": [
            "LSTM Test Accuracy: 0.9955\n"
          ]
        }
      ]
    },
    {
      "cell_type": "code",
      "source": [
        "# 평가 및 성능 측정\n",
        "lstm_model.eval()\n",
        "all_preds = []\n",
        "all_labels = []\n",
        "with torch.no_grad():\n",
        "    for inputs, labels in test_loader:\n",
        "        inputs, labels = inputs.to(device), labels.to(device)\n",
        "        outputs = lstm_model(inputs.unsqueeze(1))\n",
        "        _, preds = torch.max(outputs, 1)\n",
        "        all_preds.extend(preds.cpu().numpy())\n",
        "        all_labels.extend(labels.cpu().numpy())\n",
        "\n",
        "# Classification Report 출력\n",
        "print(\"Classification Report:\")\n",
        "print(classification_report(all_labels, all_preds, target_names=['Normal', 'Anomaly']))\n",
        "\n",
        "# Confusion Matrix 시각화\n",
        "cm = confusion_matrix(all_labels, all_preds)\n",
        "plt.figure(figsize=(6,4))\n",
        "sns.heatmap(cm, annot=True, fmt='d', cmap='Blues', xticklabels=['Normal', 'Anomaly'], yticklabels=['Normal', 'Anomaly'])\n",
        "plt.xlabel('Predicted')\n",
        "plt.ylabel('True')\n",
        "plt.title('Confusion Matrix')\n",
        "plt.show()\n"
      ],
      "metadata": {
        "colab": {
          "base_uri": "https://localhost:8080/",
          "height": 584
        },
        "id": "EVZYrVCu4sJk",
        "outputId": "bd093c91-ab8d-4366-ea1f-e81701642a72"
      },
      "execution_count": 53,
      "outputs": [
        {
          "output_type": "stream",
          "name": "stdout",
          "text": [
            "Classification Report:\n",
            "              precision    recall  f1-score   support\n",
            "\n",
            "      Normal       1.00      1.00      1.00    111609\n",
            "     Anomaly       0.97      0.87      0.92      3404\n",
            "\n",
            "    accuracy                           1.00    115013\n",
            "   macro avg       0.98      0.94      0.96    115013\n",
            "weighted avg       1.00      1.00      1.00    115013\n",
            "\n"
          ]
        },
        {
          "output_type": "display_data",
          "data": {
            "text/plain": [
              "<Figure size 600x400 with 2 Axes>"
            ],
            "image/png": "[encoded data removed]"
          },
          "metadata": {}
        }
      ]
    }
  ]
}